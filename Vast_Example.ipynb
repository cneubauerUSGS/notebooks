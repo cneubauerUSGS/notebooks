{
 "cells": [
  {
   "cell_type": "code",
   "execution_count": null,
   "metadata": {},
   "outputs": [],
   "source": [
    "import numpy as np\n",
    "import numpy.ma as ma\n",
    "import matplotlib.pyplot as plt\n",
    "from pylab import rcParams\n",
    "import plio\n",
    "from plio.io.io_gdal import GeoDataset as GeoDataSet\n",
    "\n",
    "rcParams['figure.figsize'] = 15, 15"
   ]
  },
  {
   "cell_type": "code",
   "execution_count": null,
   "metadata": {},
   "outputs": [],
   "source": [
    "data_prefix = '/scratch/thermal_stuff/data/'"
   ]
  },
  {
   "cell_type": "code",
   "execution_count": null,
   "metadata": {},
   "outputs": [],
   "source": [
    "tir = GeoDataSet(data_prefix + 'LC08_L1GT_165198_20131110_20170428_01_T2_B10_SensorRad.TIF')\n",
    "tir_data = tir.read_array()"
   ]
  },
  {
   "cell_type": "code",
   "execution_count": null,
   "metadata": {},
   "outputs": [],
   "source": [
    "plt.imshow(tir_data, cmap='inferno')\n",
    "plt.colorbar()"
   ]
  },
  {
   "cell_type": "code",
   "execution_count": null,
   "metadata": {},
   "outputs": [],
   "source": [
    "x_middle = len(tir_data) // 2\n",
    "y_middle = len(tir_data[x_middle]) // 2\n",
    "middle_area = [(x_middle - 15, y_middle - 15), (x_middle + 15, y_middle + 15)]\n",
    "\n",
    "non_volc = tir_data.copy()\n",
    "non_volc_min = non_volc.min()\n",
    "non_volc[middle_area[0][0]:middle_area[1][0], middle_area[0][1]:middle_area[1][1]] = non_volc_min\n",
    "\n",
    "non_volc_max = non_volc.max()\n",
    "volc = tir_data[middle_area[0][0]:middle_area[1][0], middle_area[0][1]:middle_area[1][1]]\n",
    "\n",
    "volc[15, 15] = 20.0 # artificialy add hotspot because none show up with vast on this data set"
   ]
  },
  {
   "cell_type": "code",
   "execution_count": null,
   "metadata": {},
   "outputs": [],
   "source": [
    "def average_surrounding( volc_area , x, y ):\n",
    "    total = 0\n",
    "    for i in (-1,0,1):\n",
    "        for j in (-1,0,1):\n",
    "            if i == 0 and j ==0:\n",
    "                continue\n",
    "            total += volc_area[ (x + i) ,( y + j) ]\n",
    "    return total / 8"
   ]
  },
  {
   "cell_type": "code",
   "execution_count": null,
   "metadata": {},
   "outputs": [],
   "source": [
    "def vast( volc_area, non_volc_area, non_volc_area_max, middle_area ):\n",
    "    anomolies = np.empty(non_volc_area.shape) \n",
    "    anomolies[:] = False\n",
    "    for column in range(len(volc_area) - 1):\n",
    "        for row in range(len(volc_area[column]) - 1):\n",
    "            if volc_area[column, row] - average_surrounding( volc_area, column, row ) > non_volc_area_max:\n",
    "                anomolies[column + middle_area[0][0], row + middle_area[0][1]] = True\n",
    "    return anomolies"
   ]
  },
  {
   "cell_type": "code",
   "execution_count": null,
   "metadata": {},
   "outputs": [],
   "source": [
    "anomolies = vast( volc, non_volc, non_volc_max, middle_area)"
   ]
  },
  {
   "cell_type": "code",
   "execution_count": null,
   "metadata": {},
   "outputs": [],
   "source": [
    "plt.imshow(anomolies, cmap='inferno')\n",
    "plt.colorbar()"
   ]
  },
  {
   "cell_type": "code",
   "execution_count": null,
   "metadata": {},
   "outputs": [],
   "source": [
    "points = np.argwhere(anomolies==True) # should be 3855 and 3780 the middle points\n",
    "np.argwhere(anomolies==True)"
   ]
  }
 ],
 "metadata": {
  "kernelspec": {
   "display_name": "Python 3",
   "language": "python",
   "name": "python3"
  },
  "language_info": {
   "codemirror_mode": {
    "name": "ipython",
    "version": 3
   },
   "file_extension": ".py",
   "mimetype": "text/x-python",
   "name": "python",
   "nbconvert_exporter": "python",
   "pygments_lexer": "ipython3",
   "version": "3.6.5"
  }
 },
 "nbformat": 4,
 "nbformat_minor": 2
}
